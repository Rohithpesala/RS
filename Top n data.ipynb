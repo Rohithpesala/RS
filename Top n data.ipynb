{
 "cells": [
  {
   "cell_type": "code",
   "execution_count": 2,
   "metadata": {},
   "outputs": [
    {
     "name": "stdout",
     "output_type": "stream",
     "text": [
      "605097\n",
      "185986\n"
     ]
    }
   ],
   "source": [
    "import csv\n",
    "import pandas as pd\n",
    "from sets import Set\n",
    "\n",
    "filepath = \"Processed_data.csv\"\n",
    "dfile = open(filepath,'rb')\n",
    "df= pd.read_csv(dfile)\n",
    "itemfile = \"items.txt\"\n",
    "ifile = open(itemfile,'w')\n",
    "userfile = \"users.txt\"\n",
    "ufile = open(userfile,'w')\n",
    "\n",
    "iset = Set(df['Item id'])\n",
    "uset = Set(df['User id'])\n",
    "\n",
    "print len(iset)\n",
    "c = 0\n",
    "for x in iset:\n",
    "    c+=1\n",
    "    ifile.write(str(x))\n",
    "    if c!=len(iset):\n",
    "        ifile.write('\\n')\n",
    "ifile.close()\n",
    "\n",
    "print len(uset)\n",
    "c = 0\n",
    "for x in uset:\n",
    "    c+=1\n",
    "    ufile.write(str(x))\n",
    "    if c!=len(uset):\n",
    "        ufile.write('\\n')\n",
    "ufile.close()\n"
   ]
  },
  {
   "cell_type": "code",
   "execution_count": 1,
   "metadata": {},
   "outputs": [
    {
     "name": "stdout",
     "output_type": "stream",
     "text": [
      "605097\n"
     ]
    }
   ],
   "source": [
    "#Checking if files are written as desired\n",
    "itemfile = \"items.txt\"\n",
    "ifile = open(itemfile,'r')\n",
    "userfile = \"users.txt\"\n",
    "ufile = open(userfile,'r')\n",
    "c=0\n",
    "for l in ifile:\n",
    "    c+=1\n",
    "print c"
   ]
  },
  {
   "cell_type": "code",
   "execution_count": null,
   "metadata": {
    "collapsed": true
   },
   "outputs": [],
   "source": []
  }
 ],
 "metadata": {
  "kernelspec": {
   "display_name": "Python 2",
   "language": "python",
   "name": "python2"
  },
  "language_info": {
   "codemirror_mode": {
    "name": "ipython",
    "version": 2
   },
   "file_extension": ".py",
   "mimetype": "text/x-python",
   "name": "python",
   "nbconvert_exporter": "python",
   "pygments_lexer": "ipython2",
   "version": "2.7.12"
  }
 },
 "nbformat": 4,
 "nbformat_minor": 2
}
