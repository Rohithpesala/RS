{
 "cells": [
  {
   "cell_type": "code",
   "execution_count": 13,
   "metadata": {},
   "outputs": [
    {
     "name": "stdout",
     "output_type": "stream",
     "text": [
      "1573870\n",
      "1\n"
     ]
    }
   ],
   "source": [
    "import csv\n",
    "from collections import defaultdict\n",
    "d = defaultdict(int)\n",
    "file_path = 'Processed_data.csv'\n",
    "dfile = open(file_path, 'rb')\n",
    "dreader = csv.reader(dfile, delimiter=',')\n",
    "c=0\n",
    "\n",
    "for row in dreader:\n",
    "    s = str(row[0])+str(row[1])\n",
    "    #print s\n",
    "    d[s] += 1\n",
    "    c+=1\n",
    "print c\n",
    "c=0\n",
    "t=0\n",
    "print d['A00097481RE3Y47922NGMB003REIMY2']\n",
    "for k in d.keys():\n",
    "    #c+=1\n",
    "    if d[k]==1:\n",
    "        c+=1\n",
    "        t+=d[k]\n",
    "#Understood that no user orders an item twice        "
   ]
  },
  {
   "cell_type": "code",
   "execution_count": 14,
   "metadata": {},
   "outputs": [
    {
     "name": "stdout",
     "output_type": "stream",
     "text": [
      "1573870 1573870\n"
     ]
    }
   ],
   "source": [
    "print c,t\n"
   ]
  },
  {
   "cell_type": "code",
   "execution_count": 16,
   "metadata": {},
   "outputs": [],
   "source": [
    "dfile.close()"
   ]
  },
  {
   "cell_type": "code",
   "execution_count": 18,
   "metadata": {},
   "outputs": [
    {
     "name": "stdout",
     "output_type": "stream",
     "text": [
      "0\n",
      "1000000\n"
     ]
    }
   ],
   "source": [
    "import csv\n",
    "import pandas as pd\n",
    "t = 0\n",
    "\n",
    "df = pd.read_csv(file_path)\n",
    "dd = defaultdict(int)\n",
    "for i,k in df.iterrows():\n",
    "    dd[k[\"User id\"]] += 1\n",
    "    if i%1000000==0: print i\n",
    "\n"
   ]
  },
  {
   "cell_type": "code",
   "execution_count": 19,
   "metadata": {
    "collapsed": true
   },
   "outputs": [],
   "source": [
    "i=1\n",
    "p=0\n",
    "prev= ''\n",
    "dfile = open(file_path, 'rb')\n",
    "dreader = csv.reader(dfile, delimiter=',')\n",
    "ud = defaultdict(int)\n",
    "for row in dreader:\n",
    "    if i-p==1:\n",
    "        prev = str(row[1])\n",
    "    else:\n",
    "        s = prev+str(row[1])\n",
    "        prev = str(row[1])\n",
    "        ud[s]+=1    \n",
    "    if i-p ==dd[k[\"User id\"]]:\n",
    "        #print \"haa\",i,p,d[k[\"User id\"]]\n",
    "        p = i\n",
    "    i+=1\n",
    "    #if t>100:break"
   ]
  },
  {
   "cell_type": "code",
   "execution_count": 24,
   "metadata": {},
   "outputs": [
    {
     "name": "stdout",
     "output_type": "stream",
     "text": [
      "6171 15042\n"
     ]
    }
   ],
   "source": [
    "c=0\n",
    "t=0\n",
    "\n",
    "for k in ud.keys():\n",
    "    #c+=1\n",
    "    if ud[k]>1:\n",
    "        c+=1\n",
    "        t+=ud[k]\n",
    "print c,t"
   ]
  }
 ],
 "metadata": {
  "kernelspec": {
   "display_name": "Python 2",
   "language": "python",
   "name": "python2"
  },
  "language_info": {
   "codemirror_mode": {
    "name": "ipython",
    "version": 2
   },
   "file_extension": ".py",
   "mimetype": "text/x-python",
   "name": "python",
   "nbconvert_exporter": "python",
   "pygments_lexer": "ipython2",
   "version": "2.7.12"
  }
 },
 "nbformat": 4,
 "nbformat_minor": 2
}
