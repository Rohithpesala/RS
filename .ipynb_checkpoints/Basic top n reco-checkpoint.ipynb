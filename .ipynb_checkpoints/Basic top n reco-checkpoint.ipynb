{
 "cells": [
  {
   "cell_type": "code",
   "execution_count": 6,
   "metadata": {},
   "outputs": [
    {
     "name": "stderr",
     "output_type": "stream",
     "text": [
      "/usr/local/lib/python2.7/dist-packages/ipykernel_launcher.py:6: DeprecationWarning: the sets module is deprecated\n",
      "  \n"
     ]
    },
    {
     "name": "stdout",
     "output_type": "stream",
     "text": [
      "Estimating biases using als...\n",
      "185986 185986\n"
     ]
    }
   ],
   "source": [
    "import pandas as pd\n",
    "import csv\n",
    "from surprise import BaselineOnly, Reader, Dataset\n",
    "import numpy as np\n",
    "from collections import defaultdict\n",
    "from sets import Set\n",
    "import math\n",
    "\n",
    "#Loading data\n",
    "#train data\n",
    "file_path_train = 'Processed_data_train.csv'\n",
    "reader = Reader(line_format='user item rating timestamp', sep=',')\n",
    "trainset = Dataset.load_from_file(file_path_train, reader=reader)\n",
    "trainset = trainset.build_full_trainset()\n",
    "\n",
    "#test data\n",
    "file_path_test = 'Processed_data_test.csv'\n",
    "testfile = open(file_path_test, 'rb')\n",
    "testset = csv.reader(testfile, delimiter=',')\n",
    "\n",
    "#Load item data\n",
    "itemfile = \"items.txt\"\n",
    "ifile = open(itemfile,'r')\n",
    "ilist = [ i for i in ifile.readlines() ]\n",
    "\n",
    "#Training with algo\n",
    "algo1 = BaselineOnly()\n",
    "algo1.train(trainset)\n",
    "\n",
    "#lists of user item pairs\n",
    "traind = defaultdict(Set)\n",
    "testd = defaultdict(Set)\n",
    "tfile = open(file_path_train,'rb')\n",
    "tset = csv.reader(tfile, delimiter = ',')\n",
    "for row in tset:\n",
    "    traind[str(row[0])].add(str(row[1]))\n",
    "for row in testset:\n",
    "    testd[str(row[0])].add(str(row[1]))\n",
    "print len(traind),len(testd)    \n",
    "\n"
   ]
  },
  {
   "cell_type": "code",
   "execution_count": 25,
   "metadata": {},
   "outputs": [
    {
     "name": "stdout",
     "output_type": "stream",
     "text": [
      "yo\n",
      "yo\n",
      "yo\n",
      "yo\n",
      "yo\n",
      "yo\n",
      "yo\n",
      "yo\n",
      "yo\n",
      "yo\n",
      "yo\n",
      "yo\n",
      "yo\n",
      "yo\n",
      "yo\n",
      "yo\n",
      "yo\n",
      "yo\n",
      "0:26:02.612456\n"
     ]
    }
   ],
   "source": [
    "from datetime import datetime\n",
    "#predictions\n",
    "#iterating through all users\n",
    "startTime = datetime.now()\n",
    "precision = 0\n",
    "recall = 0\n",
    "c=0\n",
    "for k in traind.keys():\n",
    "    c+=1\n",
    "    if c%10000==0:\n",
    "        print 'yo'\n",
    "    recoset = Set() #Using a set to track the items we got a rating for\n",
    "    recolist = []   #Using a lis to track the items and the rating and later sort to get top n recos\n",
    "    for x in testd[k]: # Iterating through all test items of the particular user and add them to our set\n",
    "        pred = algo1.predict(k, x, r_ui=3.0)\n",
    "        recoset.add(x)\n",
    "        #print pred[3]\n",
    "        recolist.append((x,pred[3]))\n",
    "    for i in range(1000): # Adding 1000 random items to simulate the unknown environment\n",
    "        rn = int(math.floor(np.random.random()*len(ilist))) #Getting the random index\n",
    "        ritem = str(ilist[rn])\n",
    "        while(ritem in traind[k] or ritem in recoset):\n",
    "            rn = int(math.floor(np.random.random()*len(ilist))) #Getting the random index\n",
    "            ritem = str(ilist[rn])\n",
    "        pred = algo1.predict(k, ritem, r_ui=3.0)\n",
    "        recoset.add(ritem)\n",
    "        recolist.append((ritem,pred[3]))\n",
    "    recolist.sort(key=lambda x: x[1],reverse=True)\n",
    "    toplist = Set()\n",
    "    for i in range(10):\n",
    "        toplist.add(recolist[i][0])    \n",
    "    intlist = toplist & testd[k]\n",
    "    #Precision\n",
    "    precision += len(intlist)*1.0/10\n",
    "    #Recall\n",
    "    recall += len(intlist)*1.0/len(testd[k])\n",
    "    #break\n",
    "precision /=len(traind)\n",
    "recall /=len(traind)\n",
    "fm = 2*precision*recall/(precision + recall)\n",
    "print datetime.now() - startTime"
   ]
  },
  {
   "cell_type": "code",
   "execution_count": 26,
   "metadata": {},
   "outputs": [
    {
     "name": "stdout",
     "output_type": "stream",
     "text": [
      "0.103966965255 0.727927926305 0.181947162293\n"
     ]
    },
    {
     "data": {
      "text/plain": [
       "\"\\nProblems with metrics\\nPrecision can't really measure. So, \\n\""
      ]
     },
     "execution_count": 26,
     "metadata": {},
     "output_type": "execute_result"
    }
   ],
   "source": [
    "print precision, recall, fm\n",
    "'''\n",
    "Problems with metrics\n",
    "Precision can't really measure. So, \n",
    "'''"
   ]
  }
 ],
 "metadata": {
  "kernelspec": {
   "display_name": "Python 2",
   "language": "python",
   "name": "python2"
  },
  "language_info": {
   "codemirror_mode": {
    "name": "ipython",
    "version": 2
   },
   "file_extension": ".py",
   "mimetype": "text/x-python",
   "name": "python",
   "nbconvert_exporter": "python",
   "pygments_lexer": "ipython2",
   "version": "2.7.12"
  }
 },
 "nbformat": 4,
 "nbformat_minor": 2
}
