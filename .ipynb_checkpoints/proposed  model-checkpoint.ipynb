{
 "cells": [
  {
   "cell_type": "code",
   "execution_count": 35,
   "metadata": {},
   "outputs": [
    {
     "name": "stderr",
     "output_type": "stream",
     "text": [
      "/usr/local/lib/python2.7/dist-packages/ipykernel_launcher.py:6: DeprecationWarning: the sets module is deprecated\n",
      "  \n"
     ]
    }
   ],
   "source": [
    "import pandas as pd\n",
    "import csv\n",
    "from collections import defaultdict\n",
    "import numpy as np\n",
    "from datetime import datetime\n",
    "from sets import Set\n",
    "import math"
   ]
  },
  {
   "cell_type": "code",
   "execution_count": 13,
   "metadata": {},
   "outputs": [
    {
     "name": "stdout",
     "output_type": "stream",
     "text": [
      "1573870\n",
      "1\n"
     ]
    }
   ],
   "source": [
    "import csv\n",
    "from collections import defaultdict\n",
    "d = defaultdict(int)\n",
    "file_path = 'Processed_data.csv'\n",
    "dfile = open(file_path, 'rb')\n",
    "dreader = csv.reader(dfile, delimiter=',')\n",
    "c=0\n",
    "\n",
    "for row in dreader:\n",
    "    s = str(row[0])+str(row[1])\n",
    "    #print s\n",
    "    d[s] += 1\n",
    "    c+=1\n",
    "print c\n",
    "c=0\n",
    "t=0\n",
    "print d['A00097481RE3Y47922NGMB003REIMY2']\n",
    "for k in d.keys():\n",
    "    #c+=1\n",
    "    if d[k]==1:\n",
    "        c+=1\n",
    "        t+=d[k]\n",
    "#Understood that no user orders an item twice        "
   ]
  },
  {
   "cell_type": "code",
   "execution_count": 14,
   "metadata": {},
   "outputs": [
    {
     "name": "stdout",
     "output_type": "stream",
     "text": [
      "1573870 1573870\n"
     ]
    }
   ],
   "source": [
    "print c,t\n"
   ]
  },
  {
   "cell_type": "code",
   "execution_count": 16,
   "metadata": {
    "collapsed": true
   },
   "outputs": [],
   "source": [
    "dfile.close()"
   ]
  },
  {
   "cell_type": "code",
   "execution_count": 3,
   "metadata": {},
   "outputs": [
    {
     "name": "stdout",
     "output_type": "stream",
     "text": [
      "0\n",
      "1000000\n",
      "185986\n"
     ]
    }
   ],
   "source": [
    "import csv\n",
    "import pandas as pd\n",
    "from collections import defaultdict\n",
    "t = 0\n",
    "file_path = 'Processed_data.csv'\n",
    "df = pd.read_csv(file_path)\n",
    "dd = defaultdict(int)\n",
    "for i,k in df.iterrows():\n",
    "    dd[k[\"User id\"]] += 1\n",
    "    if i%1000000==0: print i\n",
    "print len(dd)\n"
   ]
  },
  {
   "cell_type": "code",
   "execution_count": 26,
   "metadata": {
    "collapsed": true
   },
   "outputs": [],
   "source": [
    "#Part 1 - Read the train file and generate bigram counts\n",
    "i=1\n",
    "p=1\n",
    "prev= ''\n",
    "dfile = open(file_path_train, 'rb')\n",
    "dreader = csv.reader(dfile, delimiter=',')\n",
    "ud = defaultdict(int) #Contains the bigrams merged with || and later processed. This is to get the count of bigrams\n",
    "c = 0\n",
    "for row in dreader:\n",
    "    if i == 1:    #Base case - Avoid including header to data\n",
    "        i+=1\n",
    "        continue\n",
    "    if i-p==1:\n",
    "        prev = str(row[1])\n",
    "        c+=1#print prev\n",
    "    else:\n",
    "        s = prev+\"||\"+str(row[1])\n",
    "        prev = str(row[1])\n",
    "        ud[s]+=1    \n",
    "    if i-p ==dd[row[0]]:\n",
    "        #only testing purposes\n",
    "        #s = prev+\"||end\"\n",
    "        #ud[s]+=1 \n",
    "        #print \"haa\",i,p,d[k[\"User id\"]]\n",
    "        p = i\n",
    "    i+=1\n",
    "    #if t>100:break"
   ]
  },
  {
   "cell_type": "code",
   "execution_count": 27,
   "metadata": {},
   "outputs": [
    {
     "name": "stdout",
     "output_type": "stream",
     "text": [
      "185986\n"
     ]
    }
   ],
   "source": [
    "print c"
   ]
  },
  {
   "cell_type": "code",
   "execution_count": 32,
   "metadata": {
    "collapsed": true
   },
   "outputs": [],
   "source": [
    "#Part 2 - Process those bigrams into a list of list of tuple and sort them\n",
    "ud_proccessed = defaultdict(list) #We now process them to get a sorted list out with the counts\n",
    "c = 0\n",
    "for k in ud.keys():\n",
    "    #print k\n",
    "    i,j = k.split(\"||\")\n",
    "    ud_proccessed[i].append((j,ud[k]))\n",
    "for k in ud_proccessed.keys():\n",
    "    ud_proccessed[k].sort(key=lambda x: x[1],reverse=True)\n",
    "    if len(ud_proccessed[k])>1:\n",
    "        c+=len(ud_proccessed[k])"
   ]
  },
  {
   "cell_type": "code",
   "execution_count": 33,
   "metadata": {},
   "outputs": [
    {
     "name": "stdout",
     "output_type": "stream",
     "text": [
      "1005470\n"
     ]
    }
   ],
   "source": [
    "print c\n"
   ]
  },
  {
   "cell_type": "code",
   "execution_count": 54,
   "metadata": {
    "collapsed": true
   },
   "outputs": [],
   "source": [
    "#Part 3 - Loading train and test data for eval\n",
    "#lists of user item pairs\n",
    "traind = defaultdict(list)\n",
    "testd = defaultdict(Set)\n",
    "file_path_test = 'Processed_data_test.csv'\n",
    "testfile = open(file_path_test, 'rb')\n",
    "testset = csv.reader(testfile, delimiter=',')\n",
    "file_path_train = 'Processed_data_train.csv'\n",
    "trainfile = open(file_path_train,'rb')\n",
    "trainset = csv.reader(trainfile, delimiter = ',')\n",
    "for row in trainset:\n",
    "    traind[str(row[0])].append(str(row[1]))\n",
    "for row in testset:\n",
    "    testd[str(row[0])].add(str(row[1]))\n",
    "\n",
    "#Load item data\n",
    "ilist = [ i for i in ud_proccessed.keys() ]"
   ]
  },
  {
   "cell_type": "code",
   "execution_count": 93,
   "metadata": {},
   "outputs": [
    {
     "name": "stdout",
     "output_type": "stream",
     "text": [
      " 1 0:01:22.538163\n",
      "2 0:02:44.790740\n",
      "3 0:04:06.737193\n",
      "4 0:05:28.646150\n",
      "5 0:06:52.473124\n",
      "6 0:08:18.282082\n",
      "7 0:09:40.374939\n",
      "8 0:11:07.732312\n",
      "9 0:12:29.071800\n",
      "10 0:13:50.991568\n",
      "11 0:15:21.360583\n",
      "12 0:16:47.550938\n",
      "13 0:18:07.643227\n",
      "14 0:19:26.385258\n",
      "15 0:20:47.355853\n",
      "16 0:22:05.536589\n",
      "17 0:23:28.976873\n",
      "18 0:24:47.296089\n",
      "19 0:26:08.824013\n",
      "20 0:27:29.346984\n",
      "21 0:29:00.667963\n",
      "22 0:30:21.275110\n",
      "23 0:31:42.620665\n",
      "24 0:33:02.395784\n",
      "25 0:34:28.387767\n",
      "26 0:35:55.904252\n",
      "27 0:37:19.658405\n",
      "28 0:38:43.086773\n",
      "29 0:40:05.389440\n",
      "30 0:41:27.561149\n",
      "31 0:42:46.760091\n",
      "32 0:44:07.188095\n",
      "33 0:45:29.658684\n",
      "34 0:46:45.701145\n",
      "35 0:48:00.790807\n",
      "36 0:49:17.412557\n",
      "37 0:50:33.700611\n",
      "38 0:51:50.974775\n",
      "39 0:53:12.303849\n",
      "40 0:54:31.391677\n",
      "41 0:55:45.896214\n",
      "42 0:57:07.323295\n",
      "43 0:58:23.758397\n",
      "44 0:59:42.305561\n",
      "45 1:01:03.020089\n",
      "46 1:02:20.914104\n",
      "47 1:03:40.474564\n",
      "48 1:04:56.947800\n",
      "49 1:06:16.741888\n",
      "50 1:07:34.301320\n",
      "51 1:08:48.649414\n",
      "52 1:10:08.638250\n",
      "53 1:11:25.143508\n",
      "54 1:12:43.783861\n",
      "55 1:14:05.307939\n",
      "56 1:15:21.132257\n",
      "57 1:16:38.817048\n",
      "58 1:17:56.215337\n",
      "59 1:19:16.695725\n",
      "60 1:20:33.488505\n",
      "61 1:21:51.908652\n",
      "62 1:23:09.099103\n",
      "63 1:24:34.209624\n",
      "64 1:25:51.514280\n",
      "65 1:27:14.058359\n",
      "66 1:28:34.090103\n",
      "67 1:29:50.678456\n",
      "68 1:31:14.825764\n",
      "69 1:32:32.501462\n",
      "70 1:33:51.694867\n",
      "71 1:35:11.283168\n",
      "72 1:36:30.346203\n",
      "73 1:37:50.381629\n",
      "74 1:39:06.142947\n",
      "75 1:40:26.935809\n",
      "76 1:41:47.890667\n",
      "77 1:43:09.325241\n",
      "78 1:44:30.371993\n",
      "79 1:45:50.034834\n",
      "80 1:47:10.633632\n",
      "81 1:48:31.243312\n",
      "82 1:49:48.243776\n",
      "83 1:51:09.230460\n",
      "84 1:52:29.056061\n",
      "85 1:53:46.455486\n",
      "86 1:55:06.650318\n",
      "87 1:56:26.310903\n",
      "88 1:57:41.715689\n",
      "89 1:59:02.509606\n",
      "90 2:00:22.771101\n",
      "91 2:01:40.975080\n",
      "92 2:03:01.548929\n",
      "93 2:04:18.577245\n",
      "94 2:05:40.306826\n",
      "95 2:06:59.299054\n",
      "96 2:08:17.314343\n",
      "97 2:09:36.800737\n",
      "98 2:10:53.781217\n",
      "99 2:12:11.893012\n",
      "100 2:13:30.861904\n",
      "101 2:14:51.035582\n",
      "102 2:16:09.261126\n",
      "103 2:17:25.343423\n",
      "104 2:18:45.587755\n",
      "105 2:20:04.350750\n",
      "106 2:21:23.051871\n",
      "107 2:22:39.731807\n",
      "108 2:23:54.561509\n",
      "109 2:25:13.606758\n",
      "110 2:26:30.245124\n",
      "111 2:27:45.714378\n",
      "112 2:29:04.716567\n",
      "113 2:30:23.427554\n",
      "114 2:31:47.742977\n",
      "115 2:33:04.850214\n",
      "116 2:34:23.762262\n",
      "117 2:35:42.842385\n",
      "118 2:36:59.282716\n",
      "119 2:38:17.460097\n",
      "120 2:39:37.284025\n",
      "121 2:40:56.145081\n",
      "122 2:42:16.875382\n",
      "123 2:43:29.622681\n",
      "124 2:44:46.839480\n",
      "125 2:46:04.403253\n",
      "126 2:47:19.892928\n",
      "127 2:48:38.369469\n",
      "128 2:49:55.156129\n",
      "129 2:51:12.555020\n",
      "130 2:52:29.531873\n",
      "131 2:53:47.813630\n",
      "132 2:55:08.755743\n",
      "133 2:56:24.109179\n",
      "134 2:57:42.231319\n",
      "135 2:59:00.569461\n",
      "136 3:00:17.664865\n",
      "137 3:01:34.875824\n",
      "138 3:02:53.310303\n",
      "139 3:04:07.368992\n",
      "140 3:05:20.916375\n",
      "141 3:06:38.270030\n",
      "142 3:07:58.206433\n",
      "143 3:09:24.510602\n",
      "144 3:10:41.858986\n",
      "145 3:11:59.136461\n",
      "146 3:13:20.341188\n",
      "147 3:14:36.358787\n",
      "148 3:15:55.258084\n",
      "149 3:17:12.593771\n",
      "150 3:18:29.987883\n",
      "151 3:19:52.871422\n",
      "152 3:21:09.765194\n",
      "153 3:22:29.275098\n",
      "154 3:23:43.034541\n",
      "155 3:24:59.712715\n",
      "156 3:26:16.000807\n",
      "157 3:27:34.161476\n",
      "158 3:28:52.644279\n",
      "159 3:30:15.599262\n",
      "160 3:31:34.571124\n",
      "161 3:32:55.288816\n",
      "162 3:34:11.934003\n",
      "163 3:35:31.435745\n",
      "164 3:36:47.882150\n",
      "165 3:38:03.574667\n",
      "166 3:39:21.289768\n",
      "167 3:40:39.640208\n",
      "168 3:41:58.728191\n",
      "169 3:43:14.548898\n",
      "170 3:44:35.160677\n",
      "171 3:45:48.273761\n",
      "172 3:47:08.989061\n",
      "173 3:48:24.962139\n",
      "174 3:49:47.388538\n",
      "175 3:51:23.299156\n",
      "176 3:53:02.954968\n",
      "177 3:54:18.713300\n",
      "178 3:55:36.979217\n",
      "179 3:56:56.377933\n",
      "180 3:58:16.923797\n",
      "181 3:59:33.092078\n",
      "182 4:00:51.741070\n",
      "183 4:02:11.706625\n",
      "184 4:03:26.552588\n",
      "185 4:04:45.536897\n",
      "185986\n",
      "4:06:02.732308\n"
     ]
    }
   ],
   "source": [
    "#Part 4 - Produce a list of 10 items to calc perf\n",
    "st = datetime.now()\n",
    "prec10 = 0\n",
    "prec2 = 0\n",
    "recall10 = 0\n",
    "recall2 = 0\n",
    "fm10 = 0\n",
    "fm2 = 0\n",
    "c=0\n",
    "for k in traind.keys():\n",
    "    c+=1\n",
    "    #if c!=13244:\n",
    "    #    continue\n",
    "    if c%1000==0:\n",
    "        print c/1000, datetime.now()-st\n",
    "    recoset = Set()\n",
    "    recolist = []\n",
    "    s = traind[k][len(traind[k])-1]\n",
    "    ps = \"\"\n",
    "    #print s,k\n",
    "    n = 0\n",
    "    l = 0\n",
    "    while(l<10):\n",
    "        #This occurs when the item doesn't have any successors. So, we randomly assign a item but below we see that we first explore through our list\n",
    "        while s not in ilist or ps == s:\n",
    "            rn = int(math.floor(np.random.random()*len(ilist))) #Getting the random index\n",
    "            s = str(ilist[rn]) \n",
    "        ps = s\n",
    "        #print c,s, s in ud_proccessed.keys()\n",
    "        pl = ud_proccessed[s]\n",
    "        for i in range(len(pl)):\n",
    "            if l>=10:\n",
    "                break\n",
    "            if pl[i][0] not in recoset:\n",
    "                recoset.add(pl[i][0])\n",
    "                recolist.append(pl[i][0])\n",
    "                l+=1\n",
    "        while(1):\n",
    "            if n<l:\n",
    "                s = recolist[n]\n",
    "                n+=1\n",
    "                #print n,\n",
    "                if s in ilist:\n",
    "                    break\n",
    "            else:\n",
    "                break\n",
    "    intlist10 = Set(recolist) & testd[k]\n",
    "    intlist2  = Set(recolist[0:2]) & testd[k]\n",
    "    prec10 += len(intlist10)/10.0\n",
    "    prec2 += len(intlist2)/2.0\n",
    "    recall10 += len(intlist10)*1.0/len(testd[k])\n",
    "    recall2 += len(intlist2)*1.0/len(testd[k])\n",
    "    #break\n",
    "'''\n",
    "prec10 /= len(traind)\n",
    "prec2 /= len(traind)\n",
    "recall10 /= len(traind)\n",
    "recall2 /= len(traind)\n",
    "'''            \n",
    "fm10 = 2*prec10*recall10/(prec10+recall10)\n",
    "fm2 = 2*prec2*recall2/(prec2+recall2)\n",
    "print c    \n",
    "print datetime.now()-st"
   ]
  },
  {
   "cell_type": "code",
   "execution_count": 95,
   "metadata": {},
   "outputs": [
    {
     "name": "stdout",
     "output_type": "stream",
     "text": [
      "185986\n"
     ]
    }
   ],
   "source": [
    "prec10 /= len(traind)\n",
    "prec2 /= len(traind)\n",
    "recall10 /= len(traind)\n",
    "recall2 /= len(traind)\n",
    "\n",
    "fm10 = 2*prec10*recall10/(prec10+recall10)\n",
    "fm2 = 2*prec2*recall2/(prec2+recall2)\n",
    "print c    "
   ]
  },
  {
   "cell_type": "code",
   "execution_count": 85,
   "metadata": {},
   "outputs": [
    {
     "name": "stdout",
     "output_type": "stream",
     "text": [
      "13244\n"
     ]
    }
   ],
   "source": [
    "print c\n"
   ]
  },
  {
   "cell_type": "code",
   "execution_count": 97,
   "metadata": {},
   "outputs": [
    {
     "name": "stdout",
     "output_type": "stream",
     "text": [
      "0.282806232727 0.471669043645 0.353599248391 0.0917208822171 0.736140822914 0.16311778959\n"
     ]
    }
   ],
   "source": [
    "print prec2,recall2,fm2,prec10,recall10,fm10"
   ]
  },
  {
   "cell_type": "code",
   "execution_count": 64,
   "metadata": {},
   "outputs": [
    {
     "name": "stdout",
     "output_type": "stream",
     "text": [
      "Set(['B001867RIS']) Set(['B001867RIS'])\n"
     ]
    },
    {
     "data": {
      "text/plain": [
       "'print str(s)  in ud_proccessed.keys()\\nwhile s not in ud_proccessed.keys():\\n    rn = int(math.floor(np.random.random()*len(ilist))) #Getting the random index\\n    s = str(ilist[rn])\\n    print rn, s, s in ud_proccessed.keys()'"
      ]
     },
     "execution_count": 64,
     "metadata": {},
     "output_type": "execute_result"
    }
   ],
   "source": [
    "print Set(recolist) & testd[\"A3PPRXETCI2HX5\"], testd[\"A3PPRXETCI2HX5\"]\n",
    "'''print str(s)  in ud_proccessed.keys()\n",
    "while s not in ud_proccessed.keys():\n",
    "    rn = int(math.floor(np.random.random()*len(ilist))) #Getting the random index\n",
    "    s = str(ilist[rn])\n",
    "    print rn, s, s in ud_proccessed.keys()'''"
   ]
  },
  {
   "cell_type": "code",
   "execution_count": 13,
   "metadata": {},
   "outputs": [
    {
     "name": "stdout",
     "output_type": "stream",
     "text": [
      "1375134 8640 21389\n"
     ]
    }
   ],
   "source": [
    "c=0\n",
    "t=0\n",
    "n=0\n",
    "for k in ud.keys():\n",
    "    n+=1\n",
    "    if ud[k]>1:\n",
    "        c+=1\n",
    "        t+=ud[k]\n",
    "print n,c,t"
   ]
  }
 ],
 "metadata": {
  "kernelspec": {
   "display_name": "Python 2",
   "language": "python",
   "name": "python2"
  },
  "language_info": {
   "codemirror_mode": {
    "name": "ipython",
    "version": 2
   },
   "file_extension": ".py",
   "mimetype": "text/x-python",
   "name": "python",
   "nbconvert_exporter": "python",
   "pygments_lexer": "ipython2",
   "version": "2.7.12"
  }
 },
 "nbformat": 4,
 "nbformat_minor": 2
}
