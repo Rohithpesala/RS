{
 "cells": [
  {
   "cell_type": "code",
   "execution_count": 35,
   "metadata": {},
   "outputs": [
    {
     "name": "stderr",
     "output_type": "stream",
     "text": [
      "/usr/local/lib/python2.7/dist-packages/ipykernel_launcher.py:6: DeprecationWarning: the sets module is deprecated\n",
      "  \n"
     ]
    }
   ],
   "source": [
    "import pandas as pd\n",
    "import csv\n",
    "from collections import defaultdict\n",
    "import numpy as np\n",
    "from datetime import datetime\n",
    "from sets import Set\n",
    "import math"
   ]
  },
  {
   "cell_type": "code",
   "execution_count": 13,
   "metadata": {},
   "outputs": [
    {
     "name": "stdout",
     "output_type": "stream",
     "text": [
      "1573870\n",
      "1\n"
     ]
    }
   ],
   "source": [
    "import csv\n",
    "from collections import defaultdict\n",
    "d = defaultdict(int)\n",
    "file_path = 'Processed_data.csv'\n",
    "dfile = open(file_path, 'rb')\n",
    "dreader = csv.reader(dfile, delimiter=',')\n",
    "c=0\n",
    "\n",
    "for row in dreader:\n",
    "    s = str(row[0])+str(row[1])\n",
    "    #print s\n",
    "    d[s] += 1\n",
    "    c+=1\n",
    "print c\n",
    "c=0\n",
    "t=0\n",
    "print d['A00097481RE3Y47922NGMB003REIMY2']\n",
    "for k in d.keys():\n",
    "    #c+=1\n",
    "    if d[k]==1:\n",
    "        c+=1\n",
    "        t+=d[k]\n",
    "#Understood that no user orders an item twice        "
   ]
  },
  {
   "cell_type": "code",
   "execution_count": 14,
   "metadata": {},
   "outputs": [
    {
     "name": "stdout",
     "output_type": "stream",
     "text": [
      "1573870 1573870\n"
     ]
    }
   ],
   "source": [
    "print c,t\n"
   ]
  },
  {
   "cell_type": "code",
   "execution_count": 16,
   "metadata": {
    "collapsed": true
   },
   "outputs": [],
   "source": [
    "dfile.close()"
   ]
  },
  {
   "cell_type": "code",
   "execution_count": 3,
   "metadata": {},
   "outputs": [
    {
     "name": "stdout",
     "output_type": "stream",
     "text": [
      "0\n",
      "1000000\n",
      "185986\n"
     ]
    }
   ],
   "source": [
    "import csv\n",
    "import pandas as pd\n",
    "from collections import defaultdict\n",
    "t = 0\n",
    "file_path = 'Processed_data.csv'\n",
    "df = pd.read_csv(file_path)\n",
    "dd = defaultdict(int)\n",
    "for i,k in df.iterrows():\n",
    "    dd[k[\"User id\"]] += 1\n",
    "    if i%1000000==0: print i\n",
    "print len(dd)\n"
   ]
  },
  {
   "cell_type": "code",
   "execution_count": 26,
   "metadata": {
    "collapsed": true
   },
   "outputs": [],
   "source": [
    "#Part 1 - Read the train file and generate bigram counts\n",
    "i=1\n",
    "p=1\n",
    "prev= ''\n",
    "dfile = open(file_path_train, 'rb')\n",
    "dreader = csv.reader(dfile, delimiter=',')\n",
    "ud = defaultdict(int) #Contains the bigrams merged with || and later processed. This is to get the count of bigrams\n",
    "c = 0\n",
    "for row in dreader:\n",
    "    if i == 1:    #Base case - Avoid including header to data\n",
    "        i+=1\n",
    "        continue\n",
    "    if i-p==1:\n",
    "        prev = str(row[1])\n",
    "        c+=1#print prev\n",
    "    else:\n",
    "        s = prev+\"||\"+str(row[1])\n",
    "        prev = str(row[1])\n",
    "        ud[s]+=1    \n",
    "    if i-p ==dd[row[0]]:\n",
    "        #only testing purposes\n",
    "        #s = prev+\"||end\"\n",
    "        #ud[s]+=1 \n",
    "        #print \"haa\",i,p,d[k[\"User id\"]]\n",
    "        p = i\n",
    "    i+=1\n",
    "    #if t>100:break"
   ]
  },
  {
   "cell_type": "code",
   "execution_count": 27,
   "metadata": {},
   "outputs": [
    {
     "name": "stdout",
     "output_type": "stream",
     "text": [
      "185986\n"
     ]
    }
   ],
   "source": [
    "print c"
   ]
  },
  {
   "cell_type": "code",
   "execution_count": 32,
   "metadata": {},
   "outputs": [],
   "source": [
    "#Part 2 - Process those bigrams into a list of list of tuple and sort them\n",
    "ud_proccessed = defaultdict(list) #We now process them to get a sorted list out with the counts\n",
    "c = 0\n",
    "for k in ud.keys():\n",
    "    #print k\n",
    "    i,j = k.split(\"||\")\n",
    "    ud_proccessed[i].append((j,ud[k]))\n",
    "for k in ud_proccessed.keys():\n",
    "    ud_proccessed[k].sort(key=lambda x: x[1],reverse=True)\n",
    "    if len(ud_proccessed[k])>1:\n",
    "        c+=len(ud_proccessed[k])"
   ]
  },
  {
   "cell_type": "code",
   "execution_count": 33,
   "metadata": {},
   "outputs": [
    {
     "name": "stdout",
     "output_type": "stream",
     "text": [
      "1005470\n"
     ]
    }
   ],
   "source": [
    "print c\n"
   ]
  },
  {
   "cell_type": "code",
   "execution_count": 54,
   "metadata": {},
   "outputs": [],
   "source": [
    "#Part 3 - Loading train and test data for eval\n",
    "#lists of user item pairs\n",
    "traind = defaultdict(list)\n",
    "testd = defaultdict(Set)\n",
    "file_path_test = 'Processed_data_test.csv'\n",
    "testfile = open(file_path_test, 'rb')\n",
    "testset = csv.reader(testfile, delimiter=',')\n",
    "file_path_train = 'Processed_data_train.csv'\n",
    "trainfile = open(file_path_train,'rb')\n",
    "trainset = csv.reader(trainfile, delimiter = ',')\n",
    "for row in trainset:\n",
    "    traind[str(row[0])].append(str(row[1]))\n",
    "for row in testset:\n",
    "    testd[str(row[0])].add(str(row[1]))\n",
    "\n",
    "#Load item data\n",
    "ilist = [ i for i in ud_proccessed.keys() ]"
   ]
  },
  {
   "cell_type": "code",
   "execution_count": 61,
   "metadata": {},
   "outputs": [
    {
     "name": "stdout",
     "output_type": "stream",
     "text": [
      "B001HBVPWI A3PPRXETCI2HX5\n",
      "B001HBVPWI True\n",
      "B001867RIS True\n",
      "1\n"
     ]
    }
   ],
   "source": [
    "#Part 4 - Produce a list of 10 items to calc perf\n",
    "prec10 = 0\n",
    "prec2 = 0\n",
    "recall10 = 0\n",
    "recall2 = 0\n",
    "fm10 = 0\n",
    "fm2 = 0\n",
    "c=0\n",
    "for k in traind.keys():\n",
    "    c+=1\n",
    "    recoset = Set()\n",
    "    recolist = []\n",
    "    s = traind[k][len(traind[k])-1]\n",
    "    print s,k\n",
    "    n = 0\n",
    "    while(len(recoset)<10):\n",
    "        #This occurs when the item doesn't have any successors. So, we randomly assign a item but below we see that we first explore through our list\n",
    "        while s not in ud_proccessed.keys():\n",
    "            rn = int(math.floor(np.random.random()*len(ilist))) #Getting the random index\n",
    "            s = str(ilist[rn]) \n",
    "        print s, s in ud_proccessed.keys()\n",
    "        pl = ud_proccessed[s]\n",
    "        for i in range(len(pl)):\n",
    "            if len(recoset)>=10:\n",
    "                break\n",
    "            if pl[i][0] not in recoset:\n",
    "                recoset.add(pl[i][0])\n",
    "                recolist.append(pl[i][0])\n",
    "        while(1):\n",
    "            if n<len(recolist):\n",
    "                s = recolist[n]\n",
    "                n+=1\n",
    "                if s in ud_proccessed.keys():\n",
    "                    break\n",
    "            else:\n",
    "                break\n",
    "    intlist10 = Set(recolist) & testd[k]\n",
    "    intlist2  = Set(recolist[0:2]) & testd[k]\n",
    "    prec10 += len(intlist10)/10.0\n",
    "    prec2 += len(intlist2)/2.0\n",
    "    recall10 += len(intlist10)/len(testd[k])\n",
    "    recall2 += len(intlist2)/len(testd[k])\n",
    "    break\n",
    "            \n",
    "prec10 /= len(traind)\n",
    "prec2 /= len(traind)\n",
    "recall10 /= \n",
    "print c    "
   ]
  },
  {
   "cell_type": "code",
   "execution_count": 64,
   "metadata": {},
   "outputs": [
    {
     "name": "stdout",
     "output_type": "stream",
     "text": [
      "Set(['B001867RIS']) Set(['B001867RIS'])\n"
     ]
    },
    {
     "data": {
      "text/plain": [
       "'print str(s)  in ud_proccessed.keys()\\nwhile s not in ud_proccessed.keys():\\n    rn = int(math.floor(np.random.random()*len(ilist))) #Getting the random index\\n    s = str(ilist[rn])\\n    print rn, s, s in ud_proccessed.keys()'"
      ]
     },
     "execution_count": 64,
     "metadata": {},
     "output_type": "execute_result"
    }
   ],
   "source": [
    "print Set(recolist) & testd[\"A3PPRXETCI2HX5\"], testd[\"A3PPRXETCI2HX5\"]\n",
    "'''print str(s)  in ud_proccessed.keys()\n",
    "while s not in ud_proccessed.keys():\n",
    "    rn = int(math.floor(np.random.random()*len(ilist))) #Getting the random index\n",
    "    s = str(ilist[rn])\n",
    "    print rn, s, s in ud_proccessed.keys()'''"
   ]
  },
  {
   "cell_type": "code",
   "execution_count": 13,
   "metadata": {},
   "outputs": [
    {
     "name": "stdout",
     "output_type": "stream",
     "text": [
      "1375134 8640 21389\n"
     ]
    }
   ],
   "source": [
    "c=0\n",
    "t=0\n",
    "n=0\n",
    "for k in ud.keys():\n",
    "    n+=1\n",
    "    if ud[k]>1:\n",
    "        c+=1\n",
    "        t+=ud[k]\n",
    "print n,c,t"
   ]
  },
  {
   "cell_type": "code",
   "execution_count": null,
   "metadata": {
    "collapsed": true
   },
   "outputs": [],
   "source": [
    "c=0\n",
    "for k in traind.keys():\n",
    "    c+=1\n",
    "    if c%10000==0:\n",
    "        print c/10000, datetime.now() - startTime\n",
    "        #break\n",
    "    recoset = Set() #Using a set to track the items we got a rating for\n",
    "    recolist1 = []   #Using a lis to track the items and the rating and later sort to get top n recos\n",
    "    recolist2 = []   #Using a lis to track the items and the rating and later sort to get top n recos\n",
    "    recolist3 = []   #Using a lis to track the items and the rating and later sort to get top n recos\n",
    "    recolist4 = []   #Using a lis to track the items and the rating and later sort to get top n recos\n",
    "    for x in testd[k]: # Iterating through all test items of the particular user and add them to our set\n",
    "        recoset.add(x)\n",
    "        pred1 = algo1.predict(k, x, r_ui=3.0)\n",
    "        recolist1.append((x,pred1[3]))\n",
    "        pred2 = algo2.predict(k, x, r_ui=3.0)\n",
    "        recolist2.append((x,pred2[3]))\n",
    "        pred3 = algo3.predict(k, x, r_ui=3.0)\n",
    "        recolist3.append((x,pred3[3]))\n",
    "        pred4 = algo4.predict(k, x, r_ui=3.0)\n",
    "        recolist4.append((x,pred4[3]))\n",
    "        \n",
    "    for i in range(1000): # Adding 1000 random items to simulate the unknown environment\n",
    "        rn = int(math.floor(np.random.random()*len(ilist))) #Getting the random index\n",
    "        ritem = str(ilist[rn])\n",
    "        while(ritem in traind[k] or ritem in recoset):\n",
    "            rn = int(math.floor(np.random.random()*len(ilist))) #Getting the random index\n",
    "            ritem = str(ilist[rn])\n",
    "        recoset.add(ritem)\n",
    "        pred1 = algo1.predict(k, ritem, r_ui=3.0)        \n",
    "        recolist1.append((ritem,pred1[3]))\n",
    "        pred2 = algo2.predict(k, ritem, r_ui=3.0)        \n",
    "        recolist2.append((ritem,pred2[3]))\n",
    "        pred3 = algo3.predict(k, ritem, r_ui=3.0)\n",
    "        recolist3.append((ritem,pred3[3]))\n",
    "        pred4 = algo4.predict(k, ritem, r_ui=3.0)\n",
    "        recolist4.append((ritem,pred4[3]))\n",
    "    recolist1.sort(key=lambda x: x[1],reverse=True)\n",
    "    toplist1 = []\n",
    "    recolist2.sort(key=lambda x: x[1],reverse=True)\n",
    "    toplist2 = []\n",
    "    recolist3.sort(key=lambda x: x[1],reverse=True)\n",
    "    toplist3 = []\n",
    "    recolist4.sort(key=lambda x: x[1],reverse=True)\n",
    "    toplist4 = []\n",
    "    for i in range(10):\n",
    "        toplist1.append(recolist1[i][0])    \n",
    "        toplist2.append(recolist2[i][0])\n",
    "        toplist3.append(recolist3[i][0])    \n",
    "        toplist4.append(recolist4[i][0])\n",
    "    intlist10_1 = Set(toplist1) & testd[k]\n",
    "    intlist2_1 = Set(toplist1[0:2]) & testd[k]\n",
    "    intlist10_2 = Set(toplist2) & testd[k]\n",
    "    intlist2_2 = Set(toplist2[0:2]) & testd[k]\n",
    "    intlist10_3 = Set(toplist3) & testd[k]\n",
    "    intlist2_3 = Set(toplist3[0:2]) & testd[k]\n",
    "    intlist10_4 = Set(toplist4) & testd[k]\n",
    "    intlist2_4 = Set(toplist4[0:2]) & testd[k]\n",
    "    #Precision\n",
    "    precision10_1 += len(intlist10_1)*1.0/10\n",
    "    precision2_1 += len(intlist2_1)*1.0/2\n",
    "    precision10_2 += len(intlist10_2)*1.0/10\n",
    "    precision2_2 += len(intlist2_2)*1.0/2\n",
    "    precision10_3 += len(intlist10_3)*1.0/10\n",
    "    precision2_3 += len(intlist2_3)*1.0/2\n",
    "    precision10_4 += len(intlist10_4)*1.0/10\n",
    "    precision2_4 += len(intlist2_4)*1.0/2\n",
    "    #Recall\n",
    "    recall10_1 += len(intlist10_1)*1.0/len(testd[k])\n",
    "    recall2_1 += len(intlist2_1)*1.0/len(testd[k])\n",
    "    recall10_2 += len(intlist10_2)*1.0/len(testd[k])\n",
    "    recall2_2 += len(intlist2_2)*1.0/len(testd[k])\n",
    "    recall10_3 += len(intlist10_3)*1.0/len(testd[k])\n",
    "    recall2_3 += len(intlist2_3)*1.0/len(testd[k])\n",
    "    recall10_4 += len(intlist10_4)*1.0/len(testd[k])\n",
    "    recall2_4 += len(intlist2_4)*1.0/len(testd[k])\n",
    "    #break\n",
    "'''\n",
    "precision10_1 /=len(traind)\n",
    "precision2_1 /=len(traind)\n",
    "precision10_2 /=len(traind)\n",
    "precision2_2 /=len(traind)\n",
    "precision10_3 /=len(traind)\n",
    "precision2_3 /=len(traind)\n",
    "precision10_4 /=len(traind)\n",
    "precision2_4 /=len(traind)\n",
    "\n",
    "recall10_1 /=len(traind)\n",
    "recall2_1 /=len(traind)\n",
    "recall10_2 /=len(traind)\n",
    "recall2_2 /=len(traind)\n",
    "recall10_3 /=len(traind)\n",
    "recall2_3 /=len(traind)\n",
    "recall10_4 /=len(traind)\n",
    "recall2_4 /=len(traind)\n",
    "\n",
    "fm10 = 2*precision10_1*recall10_1/(precision10_1 + recall10_1)\n",
    "fm2 = 2*precision2_1*recall2_1/(precision2_1 + recall2_1)\n",
    "print datetime.now() - startTime\n",
    "'''"
   ]
  }
 ],
 "metadata": {
  "kernelspec": {
   "display_name": "Python 2",
   "language": "python",
   "name": "python2"
  },
  "language_info": {
   "codemirror_mode": {
    "name": "ipython",
    "version": 2
   },
   "file_extension": ".py",
   "mimetype": "text/x-python",
   "name": "python",
   "nbconvert_exporter": "python",
   "pygments_lexer": "ipython2",
   "version": "2.7.12"
  }
 },
 "nbformat": 4,
 "nbformat_minor": 2
}
