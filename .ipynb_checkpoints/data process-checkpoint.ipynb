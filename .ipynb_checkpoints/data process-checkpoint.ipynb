{
 "cells": [
  {
   "cell_type": "code",
   "execution_count": 7,
   "metadata": {},
   "outputs": [
    {
     "name": "stderr",
     "output_type": "stream",
     "text": [
      "/usr/local/lib/python2.7/dist-packages/ipykernel_launcher.py:8: FutureWarning: sort(columns=....) is deprecated, use sort_values(by=.....)\n",
      "  \n"
     ]
    },
    {
     "name": "stdout",
     "output_type": "stream",
     "text": [
      "                       User id     Item id  Rating   Timestamp\n",
      "3048261  A000008615DZQRRI946FO  B005FYPK9C     5.0  1357603200\n",
      "407789    A0000188NWOSI5X2PMSN  B000GAYQTU     1.0  1398038400\n",
      "5429107  A00005783VHRG0BPBWR0X  B00EWASFQA     5.0  1404086400\n",
      "5741684  A00005783VHRG0BPBWR0X  B00K7SH0OE     5.0  1404086400\n",
      "1943114  A000063614T1OE0BUSKUT  B003ESE4TI     5.0  1365120000\n",
      "2686691   A0001824S8GVGNC9O588  B004UUHG3U     5.0  1353024000\n",
      "3301469  A000222418JVUV9W33GLH  B00641YKDW     5.0  1360108800\n",
      "4564197  A0002382258OFJJ2UYNTR  B00A73P6WM     5.0  1366156800\n",
      "2520817   A0002456YBKJT11R5AZQ  B004KZQHL2     4.0  1389139200\n",
      "3191344   A0002696N8BSFGJBGVFN  B005P19QJU     5.0  1352332800\n",
      "306453   A00028781NF0U7YEN9U19  B000CNKQ3G     5.0  1400976000\n",
      "4791671  A00028781NF0U7YEN9U19  B00B4HQ6Z6     5.0  1405814400\n",
      "5030603  A00028781NF0U7YEN9U19  B00CBKJN64     5.0  1405814400\n",
      "4276148  A00029263J863WSR0TDRS  B00901MLNO     4.0  1387152000\n",
      "4232220  A000304837Y5QXRENSGF5  B008TV3MI4     5.0  1405209600\n",
      "2266790    A00031045Q68JAQ1UYT  B0043RTR7S     1.0  1360281600\n",
      "2831159  A0003240209W3L6XNYURH  B0054NTYIC     5.0  1351382400\n",
      "5631046  A0003552185NVT6I6E840  B00HAUJ6LC     5.0  1404864000\n",
      "291249   A00035661GCXFKCXZXAPJ  B000BPECSA     4.0  1393113600\n",
      "5679927  A000387412WV6NRZNBGRM  B00I8NZWWW     5.0  1404172800\n"
     ]
    }
   ],
   "source": [
    "import csv\n",
    "import pandas as pd\n",
    "t = 0\n",
    "\n",
    "csvpathr = \"ratings_Clothing_Shoes_and_Jewelry.csv\"\n",
    "csvpathw = \"Data_\" + csvpathr\n",
    "df = pd.read_csv(csvpathw)\n",
    "df = df.sort([\"User id\", \"Timestamp\"])\n",
    "print df[0:20]\n"
   ]
  },
  {
   "cell_type": "code",
   "execution_count": 10,
   "metadata": {},
   "outputs": [
    {
     "name": "stdout",
     "output_type": "stream",
     "text": [
      "A000008615DZQRRI946FO\n",
      "A0000188NWOSI5X2PMSN\n",
      "A00005783VHRG0BPBWR0X\n",
      "A00005783VHRG0BPBWR0X\n",
      "A000063614T1OE0BUSKUT\n",
      "A0001824S8GVGNC9O588\n",
      "A000222418JVUV9W33GLH\n",
      "A0002382258OFJJ2UYNTR\n",
      "A0002456YBKJT11R5AZQ\n",
      "A0002696N8BSFGJBGVFN\n",
      "A00028781NF0U7YEN9U19\n",
      "A00028781NF0U7YEN9U19\n",
      "A00028781NF0U7YEN9U19\n",
      "A00029263J863WSR0TDRS\n",
      "A000304837Y5QXRENSGF5\n",
      "A00031045Q68JAQ1UYT\n",
      "A0003240209W3L6XNYURH\n"
     ]
    }
   ],
   "source": [
    "for i,k in df.iterrows():\n",
    "    print k[\"User id\"]\n",
    "    t+=1\n",
    "    if t>20:break\n"
   ]
  },
  {
   "cell_type": "code",
   "execution_count": 8,
   "metadata": {},
   "outputs": [
    {
     "name": "stdout",
     "output_type": "stream",
     "text": [
      "1000000\n",
      "3000000\n",
      "4000000\n",
      "0\n",
      "5000000\n",
      "2000000\n"
     ]
    }
   ],
   "source": [
    "from collections import defaultdict\n",
    "d = defaultdict(int)\n",
    "for i,k in df.iterrows():\n",
    "    d[k[\"User id\"]] += 1\n",
    "    if i%1000000==0: print i\n",
    "#print d\n"
   ]
  },
  {
   "cell_type": "code",
   "execution_count": 22,
   "metadata": {
    "scrolled": true
   },
   "outputs": [
    {
     "name": "stdout",
     "output_type": "stream",
     "text": [
      "1.84421743655\n"
     ]
    }
   ],
   "source": [
    "print 5748920.0/len(d)"
   ]
  },
  {
   "cell_type": "code",
   "execution_count": 27,
   "metadata": {
    "scrolled": true
   },
   "outputs": [
    {
     "name": "stdout",
     "output_type": "stream",
     "text": [
      "496837\n"
     ]
    }
   ],
   "source": [
    "t=0\n",
    "for i,c in d.iteritems():\n",
    "    if c>=3: t+=1\n",
    "print t"
   ]
  },
  {
   "cell_type": "code",
   "execution_count": 13,
   "metadata": {
    "collapsed": true
   },
   "outputs": [],
   "source": [
    "import pandas as pd\n",
    "import csv\n",
    "outpath = \"Processed_data.csv\"\n",
    "outf = open(outpath,'w')\n",
    "cw = csv.writer(outf, delimiter=',')\n",
    "cw.writerow(['User id', 'Item id', 'Rating','Timestamp'])"
   ]
  },
  {
   "cell_type": "code",
   "execution_count": 14,
   "metadata": {
    "collapsed": true,
    "scrolled": true
   },
   "outputs": [],
   "source": [
    "t=0\n",
    "for i,k in df.iterrows():\n",
    "    if d[k[\"User id\"]] >=5:\n",
    "        t+=1\n",
    "        cw.writerow(k)\n",
    "        #if t>100: break\n",
    "outf.close()"
   ]
  },
  {
   "cell_type": "code",
   "execution_count": 26,
   "metadata": {
    "collapsed": true
   },
   "outputs": [],
   "source": [
    "import math\n",
    "t=0\n",
    "ndf = pd.read_csv(outpath)\n",
    "trainpath = \"Processed_data_train.csv\"\n",
    "trainf = open(trainpath,'w')\n",
    "trw = csv.writer(trainf, delimiter=',')\n",
    "testpath = \"Processed_data_test.csv\"\n",
    "testf = open(testpath,'w')\n",
    "tew = csv.writer(testf, delimiter=',')\n",
    "p=-1\n",
    "for i,k in ndf.iterrows():\n",
    "    t+=1\n",
    "    \n",
    "    lim = int(math.ceil(0.8*d[k[\"User id\"]]))\n",
    "    #print i,p,d[k[\"User id\"]],lim\n",
    "    if i-p <=lim:\n",
    "        trw.writerow(k)\n",
    "        \n",
    "    else:\n",
    "        tew.writerow(k)\n",
    "    if i-p ==d[k[\"User id\"]]:\n",
    "        #print \"haa\",i,p,d[k[\"User id\"]]\n",
    "        p = i\n",
    "    #if t>100:break\n",
    "trainf.close()\n",
    "testf.close()"
   ]
  },
  {
   "cell_type": "code",
   "execution_count": 27,
   "metadata": {},
   "outputs": [
    {
     "name": "stdout",
     "output_type": "stream",
     "text": [
      "User id      1573869\n",
      "Item id      1573869\n",
      "Rating       1573869\n",
      "Timestamp    1573869\n",
      "dtype: int64\n"
     ]
    }
   ],
   "source": [
    "outpath = \"Processed_data.csv\"\n",
    "ndf = pd.read_csv(outpath)\n",
    "print ndf.count()\n"
   ]
  }
 ],
 "metadata": {
  "kernelspec": {
   "display_name": "Python 2",
   "language": "python",
   "name": "python2"
  },
  "language_info": {
   "codemirror_mode": {
    "name": "ipython",
    "version": 2
   },
   "file_extension": ".py",
   "mimetype": "text/x-python",
   "name": "python",
   "nbconvert_exporter": "python",
   "pygments_lexer": "ipython2",
   "version": "2.7.12"
  }
 },
 "nbformat": 4,
 "nbformat_minor": 2
}
